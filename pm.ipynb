{
 "cells": [
  {
   "cell_type": "code",
   "execution_count": 1,
   "metadata": {},
   "outputs": [
    {
     "name": "stdout",
     "output_type": "stream",
     "text": [
      "Original text:  Information technology is a tool that can be leveraged to make the world a better and safe place\n",
      "Tokenization:  ['Information', 'technology', 'is', 'a', 'tool', 'that', 'can', 'be', 'leveraged', 'to', 'make', 'the', 'world', 'a', 'better', 'and', 'safe', 'place']\n",
      "Stop word removal:  ['Information', 'technology', 'tool', 'leveraged', 'make', 'world', 'better', 'safe', 'place']\n",
      "Lemmatization:  ['Information', 'technology', 'tool', 'leveraged', 'make', 'world', 'better', 'safe', 'place']\n",
      "POS tagging:  [('Information', 'NNP'), ('technology', 'NN'), ('tool', 'NN'), ('leveraged', 'VBD'), ('make', 'VBP'), ('world', 'NN'), ('better', 'RBR'), ('safe', 'JJ'), ('place', 'NN')]\n",
      "Stemming:  ['inform', 'technolog', 'tool', 'leverag', 'make', 'world', 'better', 'safe', 'place']\n",
      "Text normalization:  ['inform', 'technolog', 'tool', 'leverag', 'make', 'world', 'better', 'safe', 'place']\n"
     ]
    }
   ],
   "source": [
    "import nltk\n",
    "from nltk.corpus import stopwords\n",
    "from nltk.stem import WordNetLemmatizer\n",
    "from nltk.tokenize import word_tokenize\n",
    "from nltk.tag import pos_tag\n",
    "from nltk.stem import PorterStemmer\n",
    "\n",
    "# Define input text\n",
    "text = \"Information technology is a tool that can be leveraged to make the world a better and safe place\"\n",
    "\n",
    "# Tokenization\n",
    "tokens = word_tokenize(text)\n",
    "\n",
    "# Stop word removal\n",
    "stop_words = set(stopwords.words('english'))\n",
    "filtered_tokens = [word for word in tokens if word.lower() not in stop_words]\n",
    "\n",
    "# Lemmatization\n",
    "lemmatizer = WordNetLemmatizer()\n",
    "lemmatized_tokens = [lemmatizer.lemmatize(word) for word in filtered_tokens]\n",
    "\n",
    "#POS tagging\n",
    "pos_tags = pos_tag(lemmatized_tokens)\n",
    "\n",
    "# Stemming\n",
    "stemmer = PorterStemmer()\n",
    "stemmed_tokens = [stemmer.stem(word) for word in filtered_tokens]\n",
    "\n",
    "# Text normalization\n",
    "normalized_tokens = [word.lower() for word in stemmed_tokens if word.isalpha()]\n",
    "\n",
    "# Print results\n",
    "print(\"Original text: \", text)\n",
    "print(\"Tokenization: \", tokens)\n",
    "print(\"Stop word removal: \", filtered_tokens)\n",
    "print(\"Lemmatization: \", lemmatized_tokens)\n",
    "print(\"POS tagging: \", pos_tags)\n",
    "print(\"Stemming: \", stemmed_tokens)\n",
    "print(\"Text normalization: \", normalized_tokens)\n"
   ]
  }
 ],
 "metadata": {
  "kernelspec": {
   "display_name": "Python 3",
   "language": "python",
   "name": "python3"
  },
  "language_info": {
   "codemirror_mode": {
    "name": "ipython",
    "version": 3
   },
   "file_extension": ".py",
   "mimetype": "text/x-python",
   "name": "python",
   "nbconvert_exporter": "python",
   "pygments_lexer": "ipython3",
   "version": "3.10.4"
  },
  "orig_nbformat": 4
 },
 "nbformat": 4,
 "nbformat_minor": 2
}
